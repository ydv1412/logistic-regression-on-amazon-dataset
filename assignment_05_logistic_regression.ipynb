{
 "cells": [
  {
   "cell_type": "code",
   "execution_count": 1,
   "metadata": {},
   "outputs": [],
   "source": [
    "import sqlite3\n",
    "import numpy as np\n",
    "import pandas as pd \n",
    "from sklearn.feature_extraction.text import CountVectorizer\n",
    "from sklearn.feature_extraction.text import TfidfVectorizer\n",
    "from sklearn.manifold import TSNE\n",
    "import seaborn as sns\n",
    "import matplotlib.pyplot as plt\n",
    "from sklearn.neighbors import KNeighborsClassifier\n",
    "from sklearn import model_selection\n",
    "from sklearn.metrics import accuracy_score\n",
    "from gensim.models import Word2Vec\n",
    "from tqdm import tqdm\n",
    "from sklearn.neighbors import KDTree\n",
    "from sklearn.metrics import plot_confusion_matrix\n",
    "import random\n",
    "from sklearn.metrics import roc_curve,auc"
   ]
  },
  {
   "cell_type": "code",
   "execution_count": 128,
   "metadata": {},
   "outputs": [],
   "source": [
    "from sklearn.model_selection import GridSearchCV\n",
    "from sklearn.model_selection import RandomizedSearchCV\n",
    "from sklearn.linear_model import LogisticRegression\n",
    "from sklearn.metrics import f1_score\n",
    "from scipy.stats import uniform\n",
    "from scipy.sparse import csr_matrix"
   ]
  },
  {
   "cell_type": "code",
   "execution_count": 4,
   "metadata": {},
   "outputs": [
    {
     "data": {
      "text/html": [
       "<div>\n",
       "<style scoped>\n",
       "    .dataframe tbody tr th:only-of-type {\n",
       "        vertical-align: middle;\n",
       "    }\n",
       "\n",
       "    .dataframe tbody tr th {\n",
       "        vertical-align: top;\n",
       "    }\n",
       "\n",
       "    .dataframe thead th {\n",
       "        text-align: right;\n",
       "    }\n",
       "</style>\n",
       "<table border=\"1\" class=\"dataframe\">\n",
       "  <thead>\n",
       "    <tr style=\"text-align: right;\">\n",
       "      <th></th>\n",
       "      <th>Id</th>\n",
       "      <th>ProductId</th>\n",
       "      <th>UserId</th>\n",
       "      <th>ProfileName</th>\n",
       "      <th>HelpfulnessNumerator</th>\n",
       "      <th>HelpfulnessDenominator</th>\n",
       "      <th>Score</th>\n",
       "      <th>Time</th>\n",
       "      <th>Summary</th>\n",
       "      <th>Text</th>\n",
       "      <th>Cleaned_text</th>\n",
       "      <th>Cleaned_Summary</th>\n",
       "    </tr>\n",
       "  </thead>\n",
       "  <tbody>\n",
       "    <tr>\n",
       "      <th>0</th>\n",
       "      <td>2774</td>\n",
       "      <td>B00002NCJC</td>\n",
       "      <td>A196AJHU9EASJN</td>\n",
       "      <td>Alex Chaffee</td>\n",
       "      <td>0</td>\n",
       "      <td>0</td>\n",
       "      <td>1</td>\n",
       "      <td>1282953600</td>\n",
       "      <td>thirty bucks?</td>\n",
       "      <td>Why is this $[...] when the same product is av...</td>\n",
       "      <td>product available victor traps unreal course t...</td>\n",
       "      <td>thirty bucks</td>\n",
       "    </tr>\n",
       "    <tr>\n",
       "      <th>1</th>\n",
       "      <td>2775</td>\n",
       "      <td>B00002NCJC</td>\n",
       "      <td>A13RRPGE79XFFH</td>\n",
       "      <td>reader48</td>\n",
       "      <td>0</td>\n",
       "      <td>0</td>\n",
       "      <td>1</td>\n",
       "      <td>1281052800</td>\n",
       "      <td>Flies Begone</td>\n",
       "      <td>We have used the Victor fly bait for 3 seasons...</td>\n",
       "      <td>used victor fly bait seasons not beat great pr...</td>\n",
       "      <td>Flies Begone</td>\n",
       "    </tr>\n",
       "  </tbody>\n",
       "</table>\n",
       "</div>"
      ],
      "text/plain": [
       "     Id   ProductId          UserId   ProfileName  HelpfulnessNumerator  \\\n",
       "0  2774  B00002NCJC  A196AJHU9EASJN  Alex Chaffee                     0   \n",
       "1  2775  B00002NCJC  A13RRPGE79XFFH      reader48                     0   \n",
       "\n",
       "   HelpfulnessDenominator  Score        Time        Summary  \\\n",
       "0                       0      1  1282953600  thirty bucks?   \n",
       "1                       0      1  1281052800   Flies Begone   \n",
       "\n",
       "                                                Text  \\\n",
       "0  Why is this $[...] when the same product is av...   \n",
       "1  We have used the Victor fly bait for 3 seasons...   \n",
       "\n",
       "                                        Cleaned_text Cleaned_Summary  \n",
       "0  product available victor traps unreal course t...    thirty bucks  \n",
       "1  used victor fly bait seasons not beat great pr...    Flies Begone  "
      ]
     },
     "execution_count": 4,
     "metadata": {},
     "output_type": "execute_result"
    }
   ],
   "source": [
    "conn = sqlite3.connect(\"../amazon-fine-food-review/final_2.sqlite\")\n",
    "d_f = pd.read_sql_query(\"SELECT * FROM Reviews\",conn)\n",
    "d_f.head(2)"
   ]
  },
  {
   "cell_type": "code",
   "execution_count": 26,
   "metadata": {},
   "outputs": [
    {
     "data": {
      "text/plain": [
       "'product available victor traps unreal course total fly genocide pretty stinky right nearby'"
      ]
     },
     "execution_count": 26,
     "metadata": {},
     "output_type": "execute_result"
    }
   ],
   "source": [
    "d_f[\"Cleaned_text\"][0]"
   ]
  },
  {
   "cell_type": "code",
   "execution_count": 27,
   "metadata": {},
   "outputs": [
    {
     "data": {
      "text/plain": [
       "(4986, 12783)"
      ]
     },
     "execution_count": 27,
     "metadata": {},
     "output_type": "execute_result"
    }
   ],
   "source": [
    "#### BOW vectorisation\n",
    "model = CountVectorizer(stop_words = 'english')\n",
    "BOW_1500d = model.fit_transform(d_f[\"Cleaned_text\"])\n",
    "BOW_1500d.shape"
   ]
  },
  {
   "cell_type": "code",
   "execution_count": 28,
   "metadata": {
    "scrolled": true
   },
   "outputs": [
    {
     "name": "stdout",
     "output_type": "stream",
     "text": [
      "(3490, 12783)\n",
      "(1496, 12783)\n",
      "(3490,)\n",
      "(1496,)\n"
     ]
    }
   ],
   "source": [
    "x = BOW_1500d\n",
    "y = d_f[\"Score\"]\n",
    "x_train, x_test , y_train ,y_test = model_selection.train_test_split(x,y,test_size = 0.3)\n",
    "print(x_train.shape)\n",
    "print(x_test.shape)\n",
    "print(y_train.shape)\n",
    "print(y_test.shape)"
   ]
  },
  {
   "cell_type": "code",
   "execution_count": 29,
   "metadata": {
    "scrolled": true
   },
   "outputs": [
    {
     "name": "stdout",
     "output_type": "stream",
     "text": [
      "0.925164792555254 f1_score is\n",
      "150 predicted -\n",
      "1346 predicted +\n",
      "263 original -\n",
      "1233 original +\n",
      "accuracy =  87.09893048128342\n"
     ]
    },
    {
     "data": {
      "image/png": "[encoded data removed]",
      "text/plain": [
       "<Figure size 432x288 with 2 Axes>"
      ]
     },
     "metadata": {
      "needs_background": "light"
     },
     "output_type": "display_data"
    }
   ],
   "source": [
    "##### applying logistic regression on on BOW_1500d and c=1\n",
    "model = LogisticRegression( penalty = 'l2' , max_iter = 1000 , random_state = 4 , C=1.0)\n",
    "model.fit(x_train , y_train)\n",
    "predicted_y = model.predict(x_test)\n",
    "f1 = f1_score(y_test,predicted_y)\n",
    "print(f1,\"f1_score is\")\n",
    "plot_confusion_matrix(model,x_test,y_test , normalize = 'true' , labels = (0,1))\n",
    "print(np.count_nonzero(predicted_y==0),\"predicted -\")\n",
    "print(np.count_nonzero(predicted_y==1),\"predicted +\")\n",
    "print(np.count_nonzero(y_test==0),\"original -\")\n",
    "print(np.count_nonzero(y_test==1),\"original +\")\n",
    "print(\"accuracy = \",accuracy_score(y_test , predicted_y , normalize = True)*100)"
   ]
  },
  {
   "cell_type": "code",
   "execution_count": 31,
   "metadata": {},
   "outputs": [
    {
     "name": "stdout",
     "output_type": "stream",
     "text": [
      "0.9275136399064692 f1_score is\n",
      "163 predicted -\n",
      "1333 predicted +\n",
      "263 original -\n",
      "1233 original +\n",
      "accuracy =  87.56684491978609\n"
     ]
    },
    {
     "data": {
      "image/png": "[encoded data removed]",
      "text/plain": [
       "<Figure size 432x288 with 2 Axes>"
      ]
     },
     "metadata": {
      "needs_background": "light"
     },
     "output_type": "display_data"
    }
   ],
   "source": [
    "##### applying logistic regression on on BOW_1500d and c=1 score = liblinear and c = 1 penalty ='l1'\n",
    "model = LogisticRegression( penalty = 'l1' , max_iter = 1000 , random_state = 4 , C=1 , solver = 'liblinear')\n",
    "model.fit(x_train , y_train)\n",
    "predicted_y = model.predict(x_test)\n",
    "f1 = f1_score(y_test,predicted_y)\n",
    "print(f1,\"f1_score is\")\n",
    "plot_confusion_matrix(model,x_test,y_test , normalize = 'true' , labels = (0,1))\n",
    "print(np.count_nonzero(predicted_y==0),\"predicted -\")\n",
    "print(np.count_nonzero(predicted_y==1),\"predicted +\")\n",
    "print(np.count_nonzero(y_test==0),\"original -\")\n",
    "print(np.count_nonzero(y_test==1),\"original +\")\n",
    "print(\"accuracy = \",accuracy_score(y_test , predicted_y , normalize = True)*100)"
   ]
  },
  {
   "cell_type": "code",
   "execution_count": null,
   "metadata": {},
   "outputs": [],
   "source": []
  },
  {
   "cell_type": "code",
   "execution_count": 15,
   "metadata": {},
   "outputs": [
    {
     "name": "stdout",
     "output_type": "stream",
     "text": [
      "0.9205087440381557 f1_score is\n",
      "243 predicted -\n",
      "1253 predicted +\n",
      "233 original -\n",
      "1263 original +\n"
     ]
    },
    {
     "data": {
      "image/png": "[encoded data removed]",
      "text/plain": [
       "<Figure size 432x288 with 2 Axes>"
      ]
     },
     "metadata": {
      "needs_background": "light"
     },
     "output_type": "display_data"
    }
   ],
   "source": [
    "##### applying logistic regression on on BOW_1500d and c=1 score = liblinear and c = 1 penalty ='l2'\n",
    "model = LogisticRegression( penalty = 'l1' , max_iter = 1000 , random_state = 4 , C=100 , solver = 'liblinear')\n",
    "model.fit(x_train , y_train)\n",
    "predicted_y = model.predict(x_test)\n",
    "f1 = f1_score(y_test,predicted_y)\n",
    "print(f1,\"f1_score is\")\n",
    "plot_confusion_matrix(model,x_test,y_test , normalize = 'true' , labels = (0,1))\n",
    "print(np.count_nonzero(predicted_y==0),\"predicted -\")\n",
    "print(np.count_nonzero(predicted_y==1),\"predicted +\")\n",
    "print(np.count_nonzero(y_test==0),\"original -\")\n",
    "print(np.count_nonzero(y_test==1),\"original +\")"
   ]
  },
  {
   "cell_type": "code",
   "execution_count": 32,
   "metadata": {},
   "outputs": [
    {
     "name": "stdout",
     "output_type": "stream",
     "text": [
      "the shape of tfidf vector is (4986, 1500)\n",
      "(3490, 1500)\n",
      "(1496, 1500)\n",
      "(3490,)\n",
      "(1496,)\n"
     ]
    }
   ],
   "source": [
    "#### tfidf_vectorisation\n",
    "tfidf  = TfidfVectorizer( min_df = 10 ,max_features = 1500)\n",
    "tfidf_vector = tfidf.fit_transform(d_f[\"Cleaned_text\"])\n",
    "print(\"the shape of tfidf vector is\", tfidf_vector.shape)\n",
    "x = tfidf_vector\n",
    "y = d_f[\"Score\"]\n",
    "x_train,x_test,y_test,y_test = model_selection.train_test_split(x,y ,test_size = 0.3)\n",
    "print(x_train.shape)\n",
    "print(x_test.shape)\n",
    "print(y_train.shape)\n",
    "print(y_test.shape)"
   ]
  },
  {
   "cell_type": "code",
   "execution_count": 33,
   "metadata": {},
   "outputs": [
    {
     "name": "stdout",
     "output_type": "stream",
     "text": [
      "f1 score is 0.9175108538350216\n",
      "0 predicted -\n",
      "1496 predicted +\n",
      "228 original -\n",
      "1268 original +\n",
      "accuracy =  84.75935828877004\n"
     ]
    },
    {
     "data": {
      "image/png": "[encoded data removed]",
      "text/plain": [
       "<Figure size 432x288 with 2 Axes>"
      ]
     },
     "metadata": {
      "needs_background": "light"
     },
     "output_type": "display_data"
    }
   ],
   "source": [
    "## applying logistic regression on tfidf_1500d on c=1\n",
    "clf_model = LogisticRegression(C=1 , penalty = 'l2' , max_iter = 1000 , random_state = 4)\n",
    "model.fit(x_train , y_train)\n",
    "predicted_y = model.predict(x_test)\n",
    "f1 = f1_score(y_test , predicted_y)\n",
    "print(\"f1 score is\",f1)\n",
    "plot_confusion_matrix(model,x_test,y_test , normalize = 'true' , labels = (0,1))\n",
    "print(np.count_nonzero(predicted_y==0),\"predicted -\")\n",
    "print(np.count_nonzero(predicted_y==1),\"predicted +\")\n",
    "print(np.count_nonzero(y_test==0),\"original -\")\n",
    "print(np.count_nonzero(y_test==1),\"original +\")\n",
    "print(\"accuracy = \",accuracy_score(y_test , predicted_y , normalize = True)*100)"
   ]
  },
  {
   "cell_type": "code",
   "execution_count": 91,
   "metadata": {},
   "outputs": [
    {
     "name": "stdout",
     "output_type": "stream",
     "text": [
      "f1 score is 0.9143686502177069\n",
      "accuracy 84.22459893048129\n",
      "0 predicted -\n",
      "1496 predicted +\n",
      "236 original -\n",
      "1260 original +\n"
     ]
    },
    {
     "data": {
      "image/png": "[encoded data removed]",
      "text/plain": [
       "<Figure size 432x288 with 2 Axes>"
      ]
     },
     "metadata": {
      "needs_background": "light"
     },
     "output_type": "display_data"
    }
   ],
   "source": [
    "## applying logistic regression on tfidf_1500d on c=1\n",
    "model = LogisticRegression(C=1 , penalty = 'l1' , max_iter = 1000 , random_state = 4 ,solver = 'liblinear')\n",
    "model.fit(x_train , y_train)\n",
    "predicted_y = model.predict(x_test)\n",
    "f1 = f1_score(y_test , predicted_y)\n",
    "print(\"f1 score is\",f1)\n",
    "plot_confusion_matrix(model,x_test,y_test , normalize = 'true' , labels = (0,1))\n",
    "print(\"accuracy\",accuracy_score(y_test , predicted_y ,normalize = True)*float(100))\n",
    "print(np.count_nonzero(predicted_y==0),\"predicted -\")\n",
    "print(np.count_nonzero(predicted_y==1),\"predicted +\")\n",
    "print(np.count_nonzero(y_test==0),\"original -\")\n",
    "print(np.count_nonzero(y_test==1),\"original +\")"
   ]
  },
  {
   "cell_type": "code",
   "execution_count": 34,
   "metadata": {},
   "outputs": [
    {
     "name": "stdout",
     "output_type": "stream",
     "text": [
      "f1 score is 0.9175108538350216\n",
      "accuracy 84.75935828877004\n",
      "0 predicted -\n",
      "1496 predicted +\n",
      "228 original -\n",
      "1268 original +\n",
      "accuracy =  84.75935828877004\n"
     ]
    },
    {
     "data": {
      "image/png": "[encoded data removed]",
      "text/plain": [
       "<Figure size 432x288 with 2 Axes>"
      ]
     },
     "metadata": {
      "needs_background": "light"
     },
     "output_type": "display_data"
    }
   ],
   "source": [
    "## applying logistic regression on tfidf_1500d on c=0.1\n",
    "model = LogisticRegression(C=0.1 , penalty = 'l1' , max_iter = 1000 , random_state = 4 ,solver = 'liblinear')\n",
    "model.fit(x_train , y_train)\n",
    "predicted_y = model.predict(x_test)\n",
    "f1 = f1_score(y_test , predicted_y)\n",
    "print(\"f1 score is\",f1)\n",
    "plot_confusion_matrix(model,x_test,y_test , normalize = 'true' , labels = (0,1))\n",
    "print(\"accuracy\",accuracy_score(y_test , predicted_y ,normalize = True)*float(100))\n",
    "print(np.count_nonzero(predicted_y==0),\"predicted -\")\n",
    "print(np.count_nonzero(predicted_y==1),\"predicted +\")\n",
    "print(np.count_nonzero(y_test==0),\"original -\")\n",
    "print(np.count_nonzero(y_test==1),\"original +\")\n",
    "print(\"accuracy = \",accuracy_score(y_test , predicted_y , normalize = True)*100)"
   ]
  },
  {
   "cell_type": "code",
   "execution_count": 93,
   "metadata": {},
   "outputs": [
    {
     "name": "stdout",
     "output_type": "stream",
     "text": [
      "f1 score is 0.9143686502177069\n",
      "accuracy 84.22459893048129\n",
      "0 predicted -\n",
      "1496 predicted +\n",
      "236 original -\n",
      "1260 original +\n"
     ]
    },
    {
     "data": {
      "image/png": "[encoded data removed]",
      "text/plain": [
       "<Figure size 432x288 with 2 Axes>"
      ]
     },
     "metadata": {
      "needs_background": "light"
     },
     "output_type": "display_data"
    }
   ],
   "source": [
    "## applying logistic regression on tfidf_1500d on c=0.01\n",
    "model = LogisticRegression(C=0.01 , penalty = 'l1' , max_iter = 1000 , random_state = 4 ,solver = 'liblinear')\n",
    "model.fit(x_train , y_train)\n",
    "predicted_y = model.predict(x_test)\n",
    "f1 = f1_score(y_test , predicted_y)\n",
    "print(\"f1 score is\",f1)\n",
    "plot_confusion_matrix(model,x_test,y_test , normalize = 'true' , labels = (0,1))\n",
    "print(\"accuracy\",accuracy_score(y_test , predicted_y ,normalize = True)*float(100))\n",
    "print(np.count_nonzero(predicted_y==0),\"predicted -\")\n",
    "print(np.count_nonzero(predicted_y==1),\"predicted +\")\n",
    "print(np.count_nonzero(y_test==0),\"original -\")\n",
    "print(np.count_nonzero(y_test==1),\"original +\")"
   ]
  },
  {
   "cell_type": "code",
   "execution_count": 43,
   "metadata": {},
   "outputs": [
    {
     "name": "stdout",
     "output_type": "stream",
     "text": [
      "(3490, 137847)\n",
      "(1496, 137847)\n",
      "(3490,)\n",
      "(1496,)\n"
     ]
    }
   ],
   "source": [
    "#### logisttic on tfidf bigram\n",
    "model = TfidfVectorizer(ngram_range = (1,2))\n",
    "tfidf_vectors = model.fit_transform(d_f[\"Cleaned_text\"])\n",
    "clf_model = LogisticRegression(C=1 , penalty = 'l1' , max_iter = 1000 , random_state = 4 ,solver = 'liblinear')\n",
    "x = tfidf_vectors\n",
    "y = d_f[\"Score\"]\n",
    "x_train,x_test,y_test,y_test = model_selection.train_test_split(x,y ,test_size = 0.3)\n",
    "print(x_train.shape)\n",
    "print(x_test.shape)\n",
    "print(y_train.shape)\n",
    "print(y_test.shape)\n",
    "clf_model.fit(x_train , y_train)\n",
    "predicted_y = clf_model.predict(x_test)"
   ]
  },
  {
   "cell_type": "code",
   "execution_count": 44,
   "metadata": {},
   "outputs": [
    {
     "name": "stdout",
     "output_type": "stream",
     "text": [
      "<class 'numpy.ndarray'>\n",
      "<class 'pandas.core.series.Series'>\n"
     ]
    }
   ],
   "source": [
    "print(type(predicted_y))\n",
    "print(type(y_test))"
   ]
  },
  {
   "cell_type": "code",
   "execution_count": 45,
   "metadata": {},
   "outputs": [
    {
     "name": "stdout",
     "output_type": "stream",
     "text": [
      "f1 score is 0.9119999999999999\n",
      "accuracy 83.82352941176471\n",
      "0 predicted -\n",
      "1496 predicted +\n",
      "242 original -\n",
      "1254 original +\n"
     ]
    },
    {
     "data": {
      "image/png": "[encoded data removed]",
      "text/plain": [
       "<Figure size 432x288 with 2 Axes>"
      ]
     },
     "metadata": {
      "needs_background": "light"
     },
     "output_type": "display_data"
    }
   ],
   "source": [
    "f1 = f1_score(y_test,predicted_y)\n",
    "print(\"f1 score is\",f1)\n",
    "plot_confusion_matrix(clf_model,x_test,y_test , normalize = 'true' , labels = (0,1))\n",
    "print(\"accuracy\",accuracy_score(y_test , predicted_y ,normalize = True)*float(100))\n",
    "print(np.count_nonzero(predicted_y==0),\"predicted -\")\n",
    "print(np.count_nonzero(predicted_y==1),\"predicted +\")\n",
    "print(np.count_nonzero(y_test==0),\"original -\")\n",
    "print(np.count_nonzero(y_test==1),\"original +\")"
   ]
  },
  {
   "cell_type": "code",
   "execution_count": 46,
   "metadata": {},
   "outputs": [
    {
     "name": "stderr",
     "output_type": "stream",
     "text": [
      "100%|███████████████████████████████████████████████████████████████████████████| 4986/4986 [00:00<00:00, 88224.03it/s]\n"
     ]
    },
    {
     "name": "stdout",
     "output_type": "stream",
     "text": [
      "<class 'list'>\n",
      "3798\n"
     ]
    }
   ],
   "source": [
    "##### w2v\n",
    "#### Word2vec\n",
    "\n",
    "i=0\n",
    "list_of_sentence = []\n",
    "for sentence in tqdm(d_f[\"Cleaned_text\"]):\n",
    "    list_of_sentence.append(sentence.split())\n",
    "w2v = Word2Vec(list_of_sentence , size= 50 , min_count = 5)\n",
    "w2v_words = list(w2v.wv.vocab)\n",
    "print(type(w2v_words))\n",
    "print(len(w2v_words))"
   ]
  },
  {
   "cell_type": "code",
   "execution_count": 47,
   "metadata": {},
   "outputs": [],
   "source": [
    "## average_w2v\n",
    "\n",
    "total_vector = []\n",
    "for sentance in list_of_sentence:\n",
    "    sen_vector = np.zeros(50)\n",
    "    count = 0\n",
    "    for word in sentance:\n",
    "        if word in w2v_words:\n",
    "            count = count + 1\n",
    "            sen_vector += w2v.wv[word]\n",
    "        if count != 0:\n",
    "            sen_vector = sen_vector/count\n",
    "    total_vector.append(sen_vector)"
   ]
  },
  {
   "cell_type": "code",
   "execution_count": 48,
   "metadata": {},
   "outputs": [
    {
     "name": "stdout",
     "output_type": "stream",
     "text": [
      "4986\n",
      "50\n"
     ]
    }
   ],
   "source": [
    "print(len(total_vector))\n",
    "print(len(total_vector[0]))"
   ]
  },
  {
   "cell_type": "code",
   "execution_count": 49,
   "metadata": {},
   "outputs": [
    {
     "name": "stdout",
     "output_type": "stream",
     "text": [
      "(3490, 50)\n",
      "(1496, 50)\n",
      "(3490,)\n",
      "(1496,)\n"
     ]
    }
   ],
   "source": [
    "x = np.asarray(total_vector)\n",
    "y = d_f[\"Score\"]\n",
    "x_train,x_test,y_test,y_test = model_selection.train_test_split(x,y ,test_size = 0.3)\n",
    "print(x_train.shape)\n",
    "print(x_test.shape)\n",
    "print(y_train.shape)\n",
    "print(y_test.shape)"
   ]
  },
  {
   "cell_type": "code",
   "execution_count": 50,
   "metadata": {},
   "outputs": [
    {
     "name": "stdout",
     "output_type": "stream",
     "text": [
      "f1 score is 0.9131856156919723\n",
      "accuracy 84.02406417112299\n",
      "0 predicted -\n",
      "1496 predicted +\n",
      "239 original -\n",
      "1257 original +\n"
     ]
    },
    {
     "data": {
      "image/png": "[encoded data removed]",
      "text/plain": [
       "<Figure size 432x288 with 2 Axes>"
      ]
     },
     "metadata": {
      "needs_background": "light"
     },
     "output_type": "display_data"
    }
   ],
   "source": [
    "## applying logistic regression on average_w2v on c=1\n",
    "clf_model = LogisticRegression(C=1 , penalty = 'l2' , max_iter = 100 , random_state = 4)\n",
    "clf_model.fit(x_train , y_train)\n",
    "predicted_y = clf_model.predict(x_test)\n",
    "f1 = f1_score(y_test , predicted_y)\n",
    "print(\"f1 score is\",f1)\n",
    "plot_confusion_matrix(clf_model,x_test,y_test , normalize = 'true' , labels = (0,1))\n",
    "print(\"accuracy\",accuracy_score(y_test , predicted_y ,normalize = True)*float(100))\n",
    "print(np.count_nonzero(predicted_y==0),\"predicted -\")\n",
    "print(np.count_nonzero(predicted_y==1),\"predicted +\")\n",
    "print(np.count_nonzero(y_test==0),\"original -\")\n",
    "print(np.count_nonzero(y_test==1),\"original +\")"
   ]
  },
  {
   "cell_type": "code",
   "execution_count": 52,
   "metadata": {},
   "outputs": [
    {
     "name": "stdout",
     "output_type": "stream",
     "text": [
      "f1 score is 0.9131856156919723\n",
      "accuracy 84.02406417112299\n",
      "0 predicted -\n",
      "1496 predicted +\n",
      "239 original -\n",
      "1257 original +\n"
     ]
    },
    {
     "data": {
      "image/png": "[encoded data removed]",
      "text/plain": [
       "<Figure size 432x288 with 2 Axes>"
      ]
     },
     "metadata": {
      "needs_background": "light"
     },
     "output_type": "display_data"
    }
   ],
   "source": [
    "## applying logistic regression on average_w2v on c=5\n",
    "clf_model = LogisticRegression(C=5 , penalty = 'l2' , max_iter = 100 , random_state = 4)\n",
    "clf_model.fit(x_train , y_train)\n",
    "predicted_y = clf_model.predict(x_test)\n",
    "f1 = f1_score(y_test,predicted_y)\n",
    "print(\"f1 score is\",f1)\n",
    "plot_confusion_matrix(clf_model,x_test,y_test , normalize = 'true' , labels = (0,1))\n",
    "print(\"accuracy\",accuracy_score(y_test , predicted_y ,normalize = True)*float(100))\n",
    "print(np.count_nonzero(predicted_y==0),\"predicted -\")\n",
    "print(np.count_nonzero(predicted_y==1),\"predicted +\")\n",
    "print(np.count_nonzero(y_test==0),\"original -\")\n",
    "print(np.count_nonzero(y_test==1),\"original +\")"
   ]
  },
  {
   "cell_type": "code",
   "execution_count": 53,
   "metadata": {},
   "outputs": [
    {
     "name": "stdout",
     "output_type": "stream",
     "text": [
      "f1 score is 0.9123954925481643\n",
      "accuracy 83.8903743315508\n",
      "2 predicted -\n",
      "1494 predicted +\n",
      "239 original -\n",
      "1257 original +\n"
     ]
    },
    {
     "data": {
      "image/png": "[encoded data removed]",
      "text/plain": [
       "<Figure size 432x288 with 2 Axes>"
      ]
     },
     "metadata": {
      "needs_background": "light"
     },
     "output_type": "display_data"
    }
   ],
   "source": [
    "## applying logistic regression on average_w2v on c=4800\n",
    "clf_model = LogisticRegression(C=4800 , penalty = 'l2' , max_iter = 1000 , random_state = 4)\n",
    "clf_model.fit(x_train , y_train)\n",
    "predicted_y = clf_model.predict(x_test)\n",
    "f1 = f1_score(y_test,predicted_y)\n",
    "print(\"f1 score is\",f1)\n",
    "plot_confusion_matrix(clf_model,x_test,y_test , normalize = 'true' , labels = (0,1))\n",
    "print(\"accuracy\",accuracy_score(y_test , predicted_y ,normalize = True)*float(100))\n",
    "print(np.count_nonzero(predicted_y==0),\"predicted -\")\n",
    "print(np.count_nonzero(predicted_y==1),\"predicted +\")\n",
    "print(np.count_nonzero(y_test==0),\"original -\")\n",
    "print(np.count_nonzero(y_test==1),\"original +\")\n",
    "##plot_confusion_matrix(clf_model , x_test , y_test , labels = (0,1),normalize = 'true')"
   ]
  },
  {
   "cell_type": "code",
   "execution_count": 54,
   "metadata": {},
   "outputs": [
    {
     "name": "stdout",
     "output_type": "stream",
     "text": [
      "2\n",
      "1494\n"
     ]
    }
   ],
   "source": [
    "print(np.count_nonzero(predicted_y==0))\n",
    "print(np.count_nonzero(predicted_y==1))"
   ]
  },
  {
   "cell_type": "markdown",
   "metadata": {},
   "source": [
    "till now the best classification performance is shown by BOW so we we apply randomsearchcv on this "
   ]
  },
  {
   "cell_type": "code",
   "execution_count": 222,
   "metadata": {},
   "outputs": [
    {
     "name": "stdout",
     "output_type": "stream",
     "text": [
      "(3490, 125765)\n",
      "(1496, 125765)\n",
      "(3490,)\n",
      "(1496,)\n"
     ]
    }
   ],
   "source": [
    "#### BOW vectorisation\n",
    "model = CountVectorizer(stop_words = 'english' , ngram_range = (1,2))\n",
    "BOW_1500d = model.fit_transform(d_f[\"Cleaned_text\"])\n",
    "BOW_1500d.shape\n",
    "x = BOW_1500d\n",
    "y = d_f[\"Score\"]\n",
    "x_train, x_test , y_train ,y_test = model_selection.train_test_split(x,y,test_size = 0.3)\n",
    "print(x_train.shape)\n",
    "print(x_test.shape)\n",
    "print(y_train.shape)\n",
    "print(y_test.shape)"
   ]
  },
  {
   "cell_type": "code",
   "execution_count": 188,
   "metadata": {},
   "outputs": [],
   "source": [
    "##  applying randomsearchcv on this"
   ]
  },
  {
   "cell_type": "code",
   "execution_count": 189,
   "metadata": {},
   "outputs": [],
   "source": [
    "logistic = LogisticRegression(solver = 'saga' , tol = 1e-2 , max_iter = 100 , random_state = 0)\n",
    "distribution = dict(C = uniform(loc = 0 , scale = 4) , penalty = ['l2','l1'])"
   ]
  },
  {
   "cell_type": "code",
   "execution_count": 190,
   "metadata": {},
   "outputs": [
    {
     "data": {
      "text/plain": [
       "{'C': 2.195254015709299, 'penalty': 'l1'}"
      ]
     },
     "execution_count": 190,
     "metadata": {},
     "output_type": "execute_result"
    }
   ],
   "source": [
    "clf = RandomizedSearchCV(logistic , distribution , random_state = 0)\n",
    "search = clf.fit(x_train , y_train)\n",
    "search.best_params_"
   ]
  },
  {
   "cell_type": "code",
   "execution_count": 193,
   "metadata": {},
   "outputs": [
    {
     "name": "stdout",
     "output_type": "stream",
     "text": [
      "f1 score is 0.9312805107022155\n",
      "accuracy 87.76737967914438\n",
      "98 predicted -\n",
      "1398 predicted +\n",
      "231 original -\n",
      "1265 original +\n"
     ]
    },
    {
     "data": {
      "image/png": "[encoded data removed]",
      "text/plain": [
       "<Figure size 432x288 with 2 Axes>"
      ]
     },
     "metadata": {
      "needs_background": "light"
     },
     "output_type": "display_data"
    }
   ],
   "source": [
    "#### W calculation\n",
    "logistic = LogisticRegression(solver = 'saga' , C = 2.17 ,tol = 1e-2 , max_iter = 100 , random_state = 0 ,penalty = 'l1')\n",
    "logistic.fit(x_train , y_train)\n",
    "predicted_y = logistic.predict(x_test)\n",
    "f1 = f1_score(y_test,predicted_y)\n",
    "print(\"f1 score is\",f1)\n",
    "plot_confusion_matrix(logistic,x_test,y_test , normalize = 'true' , labels = (0,1))\n",
    "print(\"accuracy\",accuracy_score(y_test , predicted_y ,normalize = True)*float(100))\n",
    "print(np.count_nonzero(predicted_y==0),\"predicted -\")\n",
    "print(np.count_nonzero(predicted_y==1),\"predicted +\")\n",
    "print(np.count_nonzero(y_test==0),\"original -\")\n",
    "print(np.count_nonzero(y_test==1),\"original +\")"
   ]
  },
  {
   "cell_type": "code",
   "execution_count": 194,
   "metadata": {},
   "outputs": [
    {
     "name": "stdout",
     "output_type": "stream",
     "text": [
      "[0 1]\n",
      "(1, 125765)\n",
      "21676\n",
      "[[ 0.          0.          0.         ... -0.00142718  0.\n",
      "   0.        ]]\n"
     ]
    }
   ],
   "source": [
    "print(logistic.classes_)\n",
    "print(logistic.coef_.shape)\n",
    "print(np.count_nonzero(logistic.coef_!=0))\n",
    "W = logistic.coef_\n",
    "print(W[0:5])"
   ]
  },
  {
   "cell_type": "code",
   "execution_count": 195,
   "metadata": {},
   "outputs": [],
   "source": [
    "#### adding a small noise to data_set and spectating the deviation in w\n",
    "x = x_train.data + 0.00005\n",
    "y = y_train\n",
    "\n",
    "x = csr_matrix((x , x_train.indices , x_train.indptr) , shape= x_train.shape)  #### reshaping x with shapes of x_train"
   ]
  },
  {
   "cell_type": "code",
   "execution_count": 196,
   "metadata": {},
   "outputs": [
    {
     "name": "stdout",
     "output_type": "stream",
     "text": [
      "(3490, 125765)\n",
      "(3490,)\n"
     ]
    }
   ],
   "source": [
    "print(x.shape)\n",
    "print(y.shape)"
   ]
  },
  {
   "cell_type": "code",
   "execution_count": 197,
   "metadata": {},
   "outputs": [
    {
     "name": "stdout",
     "output_type": "stream",
     "text": [
      "f1 score is 0.9312805107022155\n",
      "accuracy 87.76737967914438\n",
      "98 predicted -\n",
      "1398 predicted +\n",
      "231 original -\n",
      "1265 original +\n"
     ]
    },
    {
     "data": {
      "image/png": "[encoded data removed]",
      "text/plain": [
       "<Figure size 432x288 with 2 Axes>"
      ]
     },
     "metadata": {
      "needs_background": "light"
     },
     "output_type": "display_data"
    }
   ],
   "source": [
    "logistic = LogisticRegression(solver = 'saga' , C = 2.17 ,tol = 1e-2 , max_iter = 100 , random_state = 0 ,penalty = 'l1')\n",
    "logistic.fit(x , y)\n",
    "predicted_y = logistic.predict(x_test)\n",
    "f1 = f1_score(y_test,predicted_y)\n",
    "print(\"f1 score is\",f1)\n",
    "plot_confusion_matrix(logistic,x_test,y_test , normalize = 'true' , labels = (0,1))\n",
    "print(\"accuracy\",accuracy_score(y_test , predicted_y ,normalize = True)*float(100))\n",
    "print(np.count_nonzero(predicted_y==0),\"predicted -\")\n",
    "print(np.count_nonzero(predicted_y==1),\"predicted +\")\n",
    "print(np.count_nonzero(y_test==0),\"original -\")\n",
    "print(np.count_nonzero(y_test==1),\"original +\")"
   ]
  },
  {
   "cell_type": "code",
   "execution_count": 198,
   "metadata": {},
   "outputs": [
    {
     "name": "stdout",
     "output_type": "stream",
     "text": [
      "[[ 0.          0.          0.         ... -0.00142754  0.\n",
      "   0.        ]]\n"
     ]
    }
   ],
   "source": [
    "W_dash = logistic.coef_\n",
    "print(W_dash[0:5])"
   ]
  },
  {
   "cell_type": "code",
   "execution_count": 199,
   "metadata": {},
   "outputs": [
    {
     "name": "stdout",
     "output_type": "stream",
     "text": [
      "(1, 125765)\n",
      "(1, 125765)\n"
     ]
    }
   ],
   "source": [
    "print(W.shape)\n",
    "print(W_dash.shape)"
   ]
  },
  {
   "cell_type": "code",
   "execution_count": 200,
   "metadata": {},
   "outputs": [
    {
     "name": "stdout",
     "output_type": "stream",
     "text": [
      "[[ 0.0005      0.0005      0.0005     ... -0.00092754  0.0005\n",
      "   0.0005    ]]\n",
      "[[ 0.0005      0.0005      0.0005     ... -0.00092718  0.0005\n",
      "   0.0005    ]]\n"
     ]
    }
   ],
   "source": [
    "W =np.array( [i+0.0005 for i in W])\n",
    "W_dash = np.array([i+0.0005 for i in W_dash])\n",
    "print(W_dash[0:5])\n",
    "print(W[0:5])"
   ]
  },
  {
   "cell_type": "code",
   "execution_count": 201,
   "metadata": {},
   "outputs": [
    {
     "name": "stdout",
     "output_type": "stream",
     "text": [
      "[[0.        0.        0.        ... 0.0397667 0.        0.       ]]\n",
      "[0.        0.        0.        ... 0.0397667 0.        0.       ]\n"
     ]
    }
   ],
   "source": [
    "change = abs((W-W_dash)/(W))\n",
    "percentage_change = change *100\n",
    "print(percentage_change)\n",
    "print(percentage_change[0])"
   ]
  },
  {
   "cell_type": "code",
   "execution_count": 202,
   "metadata": {},
   "outputs": [
    {
     "name": "stdout",
     "output_type": "stream",
     "text": [
      "10th percentile value is 0.0\n",
      "20th percentile value is 0.0\n",
      "30th percentile value is 0.0\n",
      "40th percentile value is 0.0\n",
      "50th percentile value is 0.0\n",
      "60th percentile value is 0.0\n",
      "70th percentile value is 0.0\n",
      "80th percentile value is 0.0\n",
      "90th percentile value is 0.009693864425335676\n",
      "100th percentile value is 7.709125552738771\n"
     ]
    }
   ],
   "source": [
    "for i in range(10,101,10):\n",
    "    print(\"{}th percentile value is {}\".format(i,np.percentile(percentage_change,i)))"
   ]
  },
  {
   "cell_type": "code",
   "execution_count": 203,
   "metadata": {},
   "outputs": [
    {
     "name": "stdout",
     "output_type": "stream",
     "text": [
      "90th percentile value is 0.009693864425335676\n",
      "91th percentile value is 0.010911882056744461\n",
      "92th percentile value is 0.012232055916106195\n",
      "93th percentile value is 0.01382641039194492\n",
      "94th percentile value is 0.016212200598158994\n",
      "95th percentile value is 0.02091761583864046\n",
      "96th percentile value is 0.02616949681540366\n",
      "97th percentile value is 0.036843185158170796\n",
      "98th percentile value is 0.05738494492196852\n",
      "99th percentile value is 0.10250126023913812\n",
      "100th percentile value is 7.709125552738771\n"
     ]
    }
   ],
   "source": [
    "for i in range(90,101,1):\n",
    "    print(\"{}th percentile value is {}\".format(i,np.percentile(percentage_change,i)))"
   ]
  },
  {
   "cell_type": "code",
   "execution_count": 204,
   "metadata": {},
   "outputs": [
    {
     "name": "stdout",
     "output_type": "stream",
     "text": [
      "99.1th percentile value is 0.1083426078457734\n",
      "99.2th percentile value is 0.11637608131820691\n",
      "99.3th percentile value is 0.15513007922068395\n",
      "99.4th percentile value is 0.18624813589238254\n",
      "99.5th percentile value is 0.22692018621214388\n",
      "99.6th percentile value is 0.2845285489677138\n",
      "99.7th percentile value is 0.5137744902185598\n",
      "99.8th percentile value is 1.250820101856123\n",
      "99.9th percentile value is 1.6061159436291679\n",
      "100.0th percentile value is 7.709125552738771\n"
     ]
    }
   ],
   "source": [
    "for i in range(1,11):\n",
    "    print(\"{}th percentile value is {}\".format(99+(i*0.1),np.percentile(percentage_change,99+(i*0.1))))"
   ]
  },
  {
   "cell_type": "markdown",
   "metadata": {},
   "source": [
    "# here i see an steep increase from 99.8 percentile so t means that after that W follows multicolinearity.we will try to remove that features"
   ]
  },
  {
   "cell_type": "code",
   "execution_count": 228,
   "metadata": {},
   "outputs": [],
   "source": [
    "change = percentage_change.reshape(-1,1)    #### this line converts the gievn array to a column vector\n",
    "feature = model.get_feature_names()\n",
    "##pertub_df = pd.DataFrame(change , columns = [\"change\"] , index = feature )"
   ]
  },
  {
   "cell_type": "code",
   "execution_count": 234,
   "metadata": {},
   "outputs": [],
   "source": [
    "two_d = np.vstack((percentage_change,feature)).T"
   ]
  },
  {
   "cell_type": "code",
   "execution_count": 235,
   "metadata": {},
   "outputs": [
    {
     "name": "stdout",
     "output_type": "stream",
     "text": [
      "(125765, 2)\n"
     ]
    }
   ],
   "source": [
    "print(two_d.shape)"
   ]
  },
  {
   "cell_type": "code",
   "execution_count": 238,
   "metadata": {},
   "outputs": [],
   "source": [
    "d_f3 = pd.DataFrame(data = two_d , columns = (\"change\" , \"feature\") )"
   ]
  },
  {
   "cell_type": "code",
   "execution_count": 240,
   "metadata": {},
   "outputs": [
    {
     "name": "stdout",
     "output_type": "stream",
     "text": [
      "                     change          feature\n",
      "125760                  0.0  zucchini update\n",
      "125761  0.03976670499083123            zupas\n",
      "125762  0.03976670499083123   zupas pathetic\n",
      "125763                  0.0            zuppa\n",
      "125764                  0.0  zuppa engelesia\n"
     ]
    }
   ],
   "source": [
    "print(d_f3.tail(5))"
   ]
  },
  {
   "cell_type": "code",
   "execution_count": 243,
   "metadata": {},
   "outputs": [],
   "source": [
    "d_f3 = d_f3[d_f3[\"change\"]< \"0.5137744902185598\"]"
   ]
  },
  {
   "cell_type": "code",
   "execution_count": 250,
   "metadata": {},
   "outputs": [
    {
     "data": {
      "text/plain": [
       "125041"
      ]
     },
     "execution_count": 250,
     "metadata": {},
     "output_type": "execute_result"
    }
   ],
   "source": [
    "len(d_f3)"
   ]
  },
  {
   "cell_type": "code",
   "execution_count": 254,
   "metadata": {},
   "outputs": [],
   "source": [
    "###  training clf_model again after removing multicolinearity"
   ]
  },
  {
   "cell_type": "code",
   "execution_count": 252,
   "metadata": {},
   "outputs": [
    {
     "name": "stdout",
     "output_type": "stream",
     "text": [
      "(3490, 125041)\n",
      "(1496, 125041)\n",
      "(3490,)\n",
      "(1496,)\n"
     ]
    }
   ],
   "source": [
    "idx = len(d_f3)\n",
    "x = BOW_1500d [:,:idx]\n",
    "y = d_f[\"Score\"]\n",
    "x_train , x_test , y_train , y_test = model_selection.train_test_split(x , y , test_size = 0.3)\n",
    "print(x_train.shape)\n",
    "print(x_test.shape)\n",
    "print(y_train.shape)\n",
    "print(y_test.shape)"
   ]
  },
  {
   "cell_type": "code",
   "execution_count": 255,
   "metadata": {},
   "outputs": [
    {
     "name": "stdout",
     "output_type": "stream",
     "text": [
      "f1 score is 0.9278350515463918\n",
      "accuracy 87.3663101604278\n",
      "116 predicted -\n",
      "1380 predicted +\n",
      "257 original -\n",
      "1239 original +\n"
     ]
    },
    {
     "data": {
      "image/png": "[encoded data removed]",
      "text/plain": [
       "<Figure size 432x288 with 2 Axes>"
      ]
     },
     "metadata": {
      "needs_background": "light"
     },
     "output_type": "display_data"
    }
   ],
   "source": [
    "logistic = LogisticRegression(solver = 'saga' , C = 2.17 ,tol = 1e-2 , max_iter = 100 , random_state = 0 ,penalty = 'l1')\n",
    "logistic.fit(x_train, y_train)\n",
    "predicted_y = logistic.predict(x_test)\n",
    "f1 = f1_score(y_test,predicted_y)\n",
    "print(\"f1 score is\",f1)\n",
    "plot_confusion_matrix(logistic,x_test,y_test , normalize = 'true' , labels = (0,1))\n",
    "print(\"accuracy\",accuracy_score(y_test , predicted_y ,normalize = True)*float(100))\n",
    "print(np.count_nonzero(predicted_y==0),\"predicted -\")\n",
    "print(np.count_nonzero(predicted_y==1),\"predicted +\")\n",
    "print(np.count_nonzero(y_test==0),\"original -\")\n",
    "print(np.count_nonzero(y_test==1),\"original +\")"
   ]
  },
  {
   "cell_type": "code",
   "execution_count": 258,
   "metadata": {},
   "outputs": [],
   "source": [
    "top_feature = d_f3.sort_values(ascending = True ,by = 'change').head(10)\n",
    "bottom_feature = d_f3.sort_values(ascending = False , by = 'change').head(10)"
   ]
  },
  {
   "cell_type": "code",
   "execution_count": 259,
   "metadata": {},
   "outputs": [
    {
     "data": {
      "text/html": [
       "<div>\n",
       "<style scoped>\n",
       "    .dataframe tbody tr th:only-of-type {\n",
       "        vertical-align: middle;\n",
       "    }\n",
       "\n",
       "    .dataframe tbody tr th {\n",
       "        vertical-align: top;\n",
       "    }\n",
       "\n",
       "    .dataframe thead th {\n",
       "        text-align: right;\n",
       "    }\n",
       "</style>\n",
       "<table border=\"1\" class=\"dataframe\">\n",
       "  <thead>\n",
       "    <tr style=\"text-align: right;\">\n",
       "      <th></th>\n",
       "      <th>change</th>\n",
       "      <th>feature</th>\n",
       "    </tr>\n",
       "  </thead>\n",
       "  <tbody>\n",
       "    <tr>\n",
       "      <th>0</th>\n",
       "      <td>0.0</td>\n",
       "      <td>aahhhs</td>\n",
       "    </tr>\n",
       "    <tr>\n",
       "      <th>80000</th>\n",
       "      <td>0.0</td>\n",
       "      <td>pediatrics pages</td>\n",
       "    </tr>\n",
       "    <tr>\n",
       "      <th>79999</th>\n",
       "      <td>0.0</td>\n",
       "      <td>pediatrics expert</td>\n",
       "    </tr>\n",
       "    <tr>\n",
       "      <th>79998</th>\n",
       "      <td>0.0</td>\n",
       "      <td>pediatrics</td>\n",
       "    </tr>\n",
       "    <tr>\n",
       "      <th>79997</th>\n",
       "      <td>0.0</td>\n",
       "      <td>pediatrician started</td>\n",
       "    </tr>\n",
       "    <tr>\n",
       "      <th>79996</th>\n",
       "      <td>0.0</td>\n",
       "      <td>pediatrician recommended</td>\n",
       "    </tr>\n",
       "    <tr>\n",
       "      <th>79995</th>\n",
       "      <td>0.0</td>\n",
       "      <td>pediatrician</td>\n",
       "    </tr>\n",
       "    <tr>\n",
       "      <th>79994</th>\n",
       "      <td>0.0</td>\n",
       "      <td>pediatric nutrition</td>\n",
       "    </tr>\n",
       "    <tr>\n",
       "      <th>79993</th>\n",
       "      <td>0.0</td>\n",
       "      <td>pediatric</td>\n",
       "    </tr>\n",
       "    <tr>\n",
       "      <th>79992</th>\n",
       "      <td>0.0</td>\n",
       "      <td>pedialyte electrolytes</td>\n",
       "    </tr>\n",
       "  </tbody>\n",
       "</table>\n",
       "</div>"
      ],
      "text/plain": [
       "      change                   feature\n",
       "0        0.0                    aahhhs\n",
       "80000    0.0          pediatrics pages\n",
       "79999    0.0         pediatrics expert\n",
       "79998    0.0                pediatrics\n",
       "79997    0.0      pediatrician started\n",
       "79996    0.0  pediatrician recommended\n",
       "79995    0.0              pediatrician\n",
       "79994    0.0       pediatric nutrition\n",
       "79993    0.0                 pediatric\n",
       "79992    0.0    pedialyte electrolytes"
      ]
     },
     "execution_count": 259,
     "metadata": {},
     "output_type": "execute_result"
    }
   ],
   "source": [
    "top_feature"
   ]
  },
  {
   "cell_type": "code",
   "execution_count": 260,
   "metadata": {},
   "outputs": [
    {
     "data": {
      "text/html": [
       "<div>\n",
       "<style scoped>\n",
       "    .dataframe tbody tr th:only-of-type {\n",
       "        vertical-align: middle;\n",
       "    }\n",
       "\n",
       "    .dataframe tbody tr th {\n",
       "        vertical-align: top;\n",
       "    }\n",
       "\n",
       "    .dataframe thead th {\n",
       "        text-align: right;\n",
       "    }\n",
       "</style>\n",
       "<table border=\"1\" class=\"dataframe\">\n",
       "  <thead>\n",
       "    <tr style=\"text-align: right;\">\n",
       "      <th></th>\n",
       "      <th>change</th>\n",
       "      <th>feature</th>\n",
       "    </tr>\n",
       "  </thead>\n",
       "  <tbody>\n",
       "    <tr>\n",
       "      <th>46917</th>\n",
       "      <td>0.5103990449629681</td>\n",
       "      <td>glue</td>\n",
       "    </tr>\n",
       "    <tr>\n",
       "      <th>21819</th>\n",
       "      <td>0.47772166797470306</td>\n",
       "      <td>coffee want</td>\n",
       "    </tr>\n",
       "    <tr>\n",
       "      <th>48908</th>\n",
       "      <td>0.47577289313962734</td>\n",
       "      <td>granulated</td>\n",
       "    </tr>\n",
       "    <tr>\n",
       "      <th>81949</th>\n",
       "      <td>0.46494351050995353</td>\n",
       "      <td>plasticy</td>\n",
       "    </tr>\n",
       "    <tr>\n",
       "      <th>32271</th>\n",
       "      <td>0.46494351050995353</td>\n",
       "      <td>distinct plasticy</td>\n",
       "    </tr>\n",
       "    <tr>\n",
       "      <th>76182</th>\n",
       "      <td>0.4450679348798118</td>\n",
       "      <td>opposite</td>\n",
       "    </tr>\n",
       "    <tr>\n",
       "      <th>103767</th>\n",
       "      <td>0.44170579211638106</td>\n",
       "      <td>stands</td>\n",
       "    </tr>\n",
       "    <tr>\n",
       "      <th>43044</th>\n",
       "      <td>0.43979713220274796</td>\n",
       "      <td>food amazon</td>\n",
       "    </tr>\n",
       "    <tr>\n",
       "      <th>84976</th>\n",
       "      <td>0.4225553261651755</td>\n",
       "      <td>price unit</td>\n",
       "    </tr>\n",
       "    <tr>\n",
       "      <th>121267</th>\n",
       "      <td>0.42116524487098783</td>\n",
       "      <td>warehouse deals</td>\n",
       "    </tr>\n",
       "  </tbody>\n",
       "</table>\n",
       "</div>"
      ],
      "text/plain": [
       "                     change            feature\n",
       "46917    0.5103990449629681               glue\n",
       "21819   0.47772166797470306        coffee want\n",
       "48908   0.47577289313962734         granulated\n",
       "81949   0.46494351050995353           plasticy\n",
       "32271   0.46494351050995353  distinct plasticy\n",
       "76182    0.4450679348798118           opposite\n",
       "103767  0.44170579211638106             stands\n",
       "43044   0.43979713220274796        food amazon\n",
       "84976    0.4225553261651755         price unit\n",
       "121267  0.42116524487098783    warehouse deals"
      ]
     },
     "execution_count": 260,
     "metadata": {},
     "output_type": "execute_result"
    }
   ],
   "source": [
    "bottom_feature"
   ]
  },
  {
   "cell_type": "code",
   "execution_count": null,
   "metadata": {},
   "outputs": [],
   "source": []
  }
 ],
 "metadata": {
  "kernelspec": {
   "display_name": "Python 3",
   "language": "python",
   "name": "python3"
  },
  "language_info": {
   "codemirror_mode": {
    "name": "ipython",
    "version": 3
   },
   "file_extension": ".py",
   "mimetype": "text/x-python",
   "name": "python",
   "nbconvert_exporter": "python",
   "pygments_lexer": "ipython3",
   "version": "3.8.5"
  }
 },
 "nbformat": 4,
 "nbformat_minor": 4
}
